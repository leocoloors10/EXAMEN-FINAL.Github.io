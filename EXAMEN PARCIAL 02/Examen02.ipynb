{
  "nbformat": 4,
  "nbformat_minor": 0,
  "metadata": {
    "colab": {
      "provenance": [],
      "mount_file_id": "1q0oZK7ZIpuSuOF-No4uPHKFpF_QW4gvz",
      "authorship_tag": "ABX9TyOtSzLvRusZ7kgxBvsIcd7k",
      "include_colab_link": true
    },
    "kernelspec": {
      "name": "python3",
      "display_name": "Python 3"
    },
    "language_info": {
      "name": "python"
    }
  },
  "cells": [
    {
      "cell_type": "markdown",
      "metadata": {
        "id": "view-in-github",
        "colab_type": "text"
      },
      "source": [
        "<a href=\"https://colab.research.google.com/github/leocoloors10/EXAMEN-FINAL.Github.io/blob/main/EXAMEN%20PARCIAL%2002/Examen02.ipynb\" target=\"_parent\"><img src=\"https://colab.research.google.com/assets/colab-badge.svg\" alt=\"Open In Colab\"/></a>"
      ]
    },
    {
      "cell_type": "code",
      "execution_count": 1,
      "metadata": {
        "id": "Tn_TtZmTWdVO"
      },
      "outputs": [],
      "source": [
        "#Importar librerías\n",
        "from keras.models import Sequential\n",
        "from keras.layers import Dense\n",
        "from sklearn.model_selection import train_test_split\n",
        "from sklearn.preprocessing import MinMaxScaler\n",
        "import numpy as np\n",
        "from keras.utils import to_categorical\n",
        "import matplotlib.pyplot as plt"
      ]
    },
    {
      "cell_type": "code",
      "source": [
        "dataset = np.loadtxt('/content/drive/MyDrive/Colab Notebooks/PENGUINS/penguins.data.txt', delimiter=',')"
      ],
      "metadata": {
        "id": "552Xz7g0qSQW"
      },
      "execution_count": 2,
      "outputs": []
    },
    {
      "cell_type": "code",
      "source": [
        "dataset"
      ],
      "metadata": {
        "colab": {
          "base_uri": "https://localhost:8080/"
        },
        "id": "9T34qVb9atxR",
        "outputId": "01c84699-3593-4e0d-95f7-5846deabc4a2"
      },
      "execution_count": 3,
      "outputs": [
        {
          "output_type": "execute_result",
          "data": {
            "text/plain": [
              "array([[0.00e+00, 0.00e+00, 3.91e+01, ..., 1.81e+02, 3.75e+03, 0.00e+00],\n",
              "       [0.00e+00, 0.00e+00, 3.95e+01, ..., 1.86e+02, 3.80e+03, 1.00e+00],\n",
              "       [0.00e+00, 0.00e+00, 4.03e+01, ..., 1.95e+02, 3.25e+03, 1.00e+00],\n",
              "       ...,\n",
              "       [2.00e+00, 1.00e+00, 5.04e+01, ..., 2.22e+02, 5.75e+03, 0.00e+00],\n",
              "       [2.00e+00, 1.00e+00, 4.52e+01, ..., 2.12e+02, 5.20e+03, 1.00e+00],\n",
              "       [2.00e+00, 1.00e+00, 4.99e+01, ..., 2.13e+02, 5.40e+03, 0.00e+00]])"
            ]
          },
          "metadata": {},
          "execution_count": 3
        }
      ]
    },
    {
      "cell_type": "code",
      "source": [
        "dataset.shape"
      ],
      "metadata": {
        "colab": {
          "base_uri": "https://localhost:8080/"
        },
        "id": "ll2WG3oKgjno",
        "outputId": "95a222da-2cce-4f9e-81dd-799f2aa641a5"
      },
      "execution_count": 4,
      "outputs": [
        {
          "output_type": "execute_result",
          "data": {
            "text/plain": [
              "(333, 7)"
            ]
          },
          "metadata": {},
          "execution_count": 4
        }
      ]
    },
    {
      "cell_type": "code",
      "source": [
        "#Data training\n",
        "X = dataset[:, 0:4]\n",
        "Y = dataset[:, 4]"
      ],
      "metadata": {
        "id": "KJLjh6j7gv0r"
      },
      "execution_count": 5,
      "outputs": []
    },
    {
      "cell_type": "code",
      "source": [
        "X.shape"
      ],
      "metadata": {
        "colab": {
          "base_uri": "https://localhost:8080/"
        },
        "id": "gu8IIhGynPnS",
        "outputId": "7b39e3ce-59d7-47fa-a8cb-e008eb663374"
      },
      "execution_count": 6,
      "outputs": [
        {
          "output_type": "execute_result",
          "data": {
            "text/plain": [
              "(333, 4)"
            ]
          },
          "metadata": {},
          "execution_count": 6
        }
      ]
    },
    {
      "cell_type": "code",
      "source": [
        "Y.shape"
      ],
      "metadata": {
        "colab": {
          "base_uri": "https://localhost:8080/"
        },
        "id": "jzFlAq43nSQx",
        "outputId": "f488fe11-39e8-4e8f-c7e1-112aa4a6093c"
      },
      "execution_count": 7,
      "outputs": [
        {
          "output_type": "execute_result",
          "data": {
            "text/plain": [
              "(333,)"
            ]
          },
          "metadata": {},
          "execution_count": 7
        }
      ]
    },
    {
      "cell_type": "code",
      "source": [
        "Y = to_categorical(Y)"
      ],
      "metadata": {
        "id": "zBIzeIMvo75g"
      },
      "execution_count": 8,
      "outputs": []
    },
    {
      "cell_type": "code",
      "source": [
        "Y"
      ],
      "metadata": {
        "colab": {
          "base_uri": "https://localhost:8080/"
        },
        "id": "LldPXJk-o-tU",
        "outputId": "ca82a259-fba1-4643-b89d-1987180cfd9e"
      },
      "execution_count": 9,
      "outputs": [
        {
          "output_type": "execute_result",
          "data": {
            "text/plain": [
              "array([[0., 0., 0., ..., 0., 0., 0.],\n",
              "       [0., 0., 0., ..., 0., 0., 0.],\n",
              "       [0., 0., 0., ..., 0., 0., 0.],\n",
              "       ...,\n",
              "       [0., 0., 0., ..., 0., 0., 0.],\n",
              "       [0., 0., 0., ..., 0., 0., 0.],\n",
              "       [0., 0., 0., ..., 0., 0., 0.]], dtype=float32)"
            ]
          },
          "metadata": {},
          "execution_count": 9
        }
      ]
    },
    {
      "cell_type": "code",
      "source": [
        "scaler = MinMaxScaler(feature_range=(0,1))\n",
        "X = scaler.fit_transform(X)"
      ],
      "metadata": {
        "id": "2_f2eX8bnUqe"
      },
      "execution_count": 10,
      "outputs": []
    },
    {
      "cell_type": "code",
      "source": [
        "X.shape"
      ],
      "metadata": {
        "colab": {
          "base_uri": "https://localhost:8080/"
        },
        "id": "X_19vJ1qnZLJ",
        "outputId": "d45e3110-82dc-486b-e14a-254c826bfb6c"
      },
      "execution_count": 11,
      "outputs": [
        {
          "output_type": "execute_result",
          "data": {
            "text/plain": [
              "(333, 4)"
            ]
          },
          "metadata": {},
          "execution_count": 11
        }
      ]
    },
    {
      "cell_type": "code",
      "source": [
        "Xtrain, Xtest, Ytrain, Ytest = train_test_split(X, Y, test_size=0.40)"
      ],
      "metadata": {
        "id": "l0i1HthInijN"
      },
      "execution_count": 12,
      "outputs": []
    },
    {
      "cell_type": "code",
      "source": [
        "# Modelo de RNA\n",
        "model = Sequential()\n",
        "model.add(Dense(36, input_dim=4, activation=\"relu\"))\n",
        "model.add(Dense(32, activation=\"relu\"))\n",
        "model.add(Dense(16, activation=\"tanh\"))\n",
        "model.add(Dense(1, activation=\"tanh\"))"
      ],
      "metadata": {
        "id": "76vzM1Wpnq2x"
      },
      "execution_count": 13,
      "outputs": []
    },
    {
      "cell_type": "code",
      "source": [
        "model.compile(loss='mean_squared_error', optimizer='adam', metrics='accuracy')"
      ],
      "metadata": {
        "id": "R1lXQ9azn5v3"
      },
      "execution_count": 14,
      "outputs": []
    },
    {
      "cell_type": "code",
      "source": [
        "history = model.fit(Xtrain, Ytrain, validation_data=(Xtest, Ytest), epochs=100)"
      ],
      "metadata": {
        "colab": {
          "base_uri": "https://localhost:8080/"
        },
        "id": "L9O9xvG8pMU-",
        "outputId": "6131e975-5092-4c12-e7fa-5d5b1d764aa7"
      },
      "execution_count": 15,
      "outputs": [
        {
          "output_type": "stream",
          "name": "stdout",
          "text": [
            "Epoch 1/200\n",
            "7/7 [==============================] - 3s 105ms/step - loss: 0.0111 - accuracy: 0.9957 - val_loss: 0.0071 - val_accuracy: 0.9957\n",
            "Epoch 2/200\n",
            "7/7 [==============================] - 0s 19ms/step - loss: 0.0059 - accuracy: 0.9957 - val_loss: 0.0046 - val_accuracy: 0.9957\n",
            "Epoch 3/200\n",
            "7/7 [==============================] - 0s 18ms/step - loss: 0.0051 - accuracy: 0.9957 - val_loss: 0.0049 - val_accuracy: 0.9957\n",
            "Epoch 4/200\n",
            "7/7 [==============================] - 0s 24ms/step - loss: 0.0048 - accuracy: 0.9957 - val_loss: 0.0047 - val_accuracy: 0.9957\n",
            "Epoch 5/200\n",
            "7/7 [==============================] - 0s 13ms/step - loss: 0.0046 - accuracy: 0.9957 - val_loss: 0.0044 - val_accuracy: 0.9957\n",
            "Epoch 6/200\n",
            "7/7 [==============================] - 0s 27ms/step - loss: 0.0045 - accuracy: 0.9957 - val_loss: 0.0044 - val_accuracy: 0.9957\n",
            "Epoch 7/200\n",
            "7/7 [==============================] - 0s 13ms/step - loss: 0.0044 - accuracy: 0.9957 - val_loss: 0.0044 - val_accuracy: 0.9957\n",
            "Epoch 8/200\n",
            "7/7 [==============================] - 0s 17ms/step - loss: 0.0044 - accuracy: 0.9957 - val_loss: 0.0044 - val_accuracy: 0.9957\n",
            "Epoch 9/200\n",
            "7/7 [==============================] - 0s 19ms/step - loss: 0.0044 - accuracy: 0.9957 - val_loss: 0.0044 - val_accuracy: 0.9957\n",
            "Epoch 10/200\n",
            "7/7 [==============================] - 0s 16ms/step - loss: 0.0044 - accuracy: 0.9957 - val_loss: 0.0044 - val_accuracy: 0.9957\n",
            "Epoch 11/200\n",
            "7/7 [==============================] - 0s 18ms/step - loss: 0.0044 - accuracy: 0.9957 - val_loss: 0.0044 - val_accuracy: 0.9957\n",
            "Epoch 12/200\n",
            "7/7 [==============================] - 0s 17ms/step - loss: 0.0044 - accuracy: 0.9957 - val_loss: 0.0043 - val_accuracy: 0.9957\n",
            "Epoch 13/200\n",
            "7/7 [==============================] - 0s 14ms/step - loss: 0.0044 - accuracy: 0.9957 - val_loss: 0.0043 - val_accuracy: 0.9957\n",
            "Epoch 14/200\n",
            "7/7 [==============================] - 0s 15ms/step - loss: 0.0043 - accuracy: 0.9957 - val_loss: 0.0043 - val_accuracy: 0.9957\n",
            "Epoch 15/200\n",
            "7/7 [==============================] - 0s 13ms/step - loss: 0.0043 - accuracy: 0.9957 - val_loss: 0.0043 - val_accuracy: 0.9957\n",
            "Epoch 16/200\n",
            "7/7 [==============================] - 0s 21ms/step - loss: 0.0043 - accuracy: 0.9957 - val_loss: 0.0043 - val_accuracy: 0.9957\n",
            "Epoch 17/200\n",
            "7/7 [==============================] - 0s 21ms/step - loss: 0.0043 - accuracy: 0.9957 - val_loss: 0.0043 - val_accuracy: 0.9957\n",
            "Epoch 18/200\n",
            "7/7 [==============================] - 0s 13ms/step - loss: 0.0043 - accuracy: 0.9957 - val_loss: 0.0043 - val_accuracy: 0.9957\n",
            "Epoch 19/200\n",
            "7/7 [==============================] - 0s 18ms/step - loss: 0.0043 - accuracy: 0.9957 - val_loss: 0.0043 - val_accuracy: 0.9957\n",
            "Epoch 20/200\n",
            "7/7 [==============================] - 0s 19ms/step - loss: 0.0043 - accuracy: 0.9957 - val_loss: 0.0043 - val_accuracy: 0.9957\n",
            "Epoch 21/200\n",
            "7/7 [==============================] - 0s 13ms/step - loss: 0.0043 - accuracy: 0.9957 - val_loss: 0.0043 - val_accuracy: 0.9957\n",
            "Epoch 22/200\n",
            "7/7 [==============================] - 0s 18ms/step - loss: 0.0043 - accuracy: 0.9957 - val_loss: 0.0043 - val_accuracy: 0.9957\n",
            "Epoch 23/200\n",
            "7/7 [==============================] - 0s 20ms/step - loss: 0.0043 - accuracy: 0.9957 - val_loss: 0.0043 - val_accuracy: 0.9957\n",
            "Epoch 24/200\n",
            "7/7 [==============================] - 0s 14ms/step - loss: 0.0043 - accuracy: 0.9957 - val_loss: 0.0043 - val_accuracy: 0.9957\n",
            "Epoch 25/200\n",
            "7/7 [==============================] - 0s 15ms/step - loss: 0.0043 - accuracy: 0.9957 - val_loss: 0.0043 - val_accuracy: 0.9957\n",
            "Epoch 26/200\n",
            "7/7 [==============================] - 0s 20ms/step - loss: 0.0043 - accuracy: 0.9957 - val_loss: 0.0043 - val_accuracy: 0.9957\n",
            "Epoch 27/200\n",
            "7/7 [==============================] - 0s 13ms/step - loss: 0.0043 - accuracy: 0.9957 - val_loss: 0.0043 - val_accuracy: 0.9957\n",
            "Epoch 28/200\n",
            "7/7 [==============================] - 0s 20ms/step - loss: 0.0043 - accuracy: 0.9957 - val_loss: 0.0043 - val_accuracy: 0.9957\n",
            "Epoch 29/200\n",
            "7/7 [==============================] - 0s 17ms/step - loss: 0.0043 - accuracy: 0.9957 - val_loss: 0.0043 - val_accuracy: 0.9957\n",
            "Epoch 30/200\n",
            "7/7 [==============================] - 0s 22ms/step - loss: 0.0043 - accuracy: 0.9957 - val_loss: 0.0043 - val_accuracy: 0.9957\n",
            "Epoch 31/200\n",
            "7/7 [==============================] - 0s 16ms/step - loss: 0.0043 - accuracy: 0.9957 - val_loss: 0.0043 - val_accuracy: 0.9957\n",
            "Epoch 32/200\n",
            "7/7 [==============================] - 0s 40ms/step - loss: 0.0043 - accuracy: 0.9957 - val_loss: 0.0043 - val_accuracy: 0.9957\n",
            "Epoch 33/200\n",
            "7/7 [==============================] - 0s 19ms/step - loss: 0.0043 - accuracy: 0.9957 - val_loss: 0.0043 - val_accuracy: 0.9957\n",
            "Epoch 34/200\n",
            "7/7 [==============================] - 0s 33ms/step - loss: 0.0043 - accuracy: 0.9957 - val_loss: 0.0043 - val_accuracy: 0.9957\n",
            "Epoch 35/200\n",
            "7/7 [==============================] - 0s 34ms/step - loss: 0.0043 - accuracy: 0.9957 - val_loss: 0.0043 - val_accuracy: 0.9957\n",
            "Epoch 36/200\n",
            "7/7 [==============================] - 0s 21ms/step - loss: 0.0043 - accuracy: 0.9957 - val_loss: 0.0043 - val_accuracy: 0.9957\n",
            "Epoch 37/200\n",
            "7/7 [==============================] - 0s 22ms/step - loss: 0.0043 - accuracy: 0.9957 - val_loss: 0.0043 - val_accuracy: 0.9957\n",
            "Epoch 38/200\n",
            "7/7 [==============================] - 0s 26ms/step - loss: 0.0043 - accuracy: 0.9957 - val_loss: 0.0043 - val_accuracy: 0.9957\n",
            "Epoch 39/200\n",
            "7/7 [==============================] - 0s 32ms/step - loss: 0.0043 - accuracy: 0.9957 - val_loss: 0.0043 - val_accuracy: 0.9957\n",
            "Epoch 40/200\n",
            "7/7 [==============================] - 0s 31ms/step - loss: 0.0043 - accuracy: 0.9957 - val_loss: 0.0043 - val_accuracy: 0.9957\n",
            "Epoch 41/200\n",
            "7/7 [==============================] - 0s 33ms/step - loss: 0.0043 - accuracy: 0.9957 - val_loss: 0.0043 - val_accuracy: 0.9957\n",
            "Epoch 42/200\n",
            "7/7 [==============================] - 0s 19ms/step - loss: 0.0043 - accuracy: 0.9957 - val_loss: 0.0043 - val_accuracy: 0.9957\n",
            "Epoch 43/200\n",
            "7/7 [==============================] - 0s 11ms/step - loss: 0.0043 - accuracy: 0.9957 - val_loss: 0.0043 - val_accuracy: 0.9957\n",
            "Epoch 44/200\n",
            "7/7 [==============================] - 0s 10ms/step - loss: 0.0043 - accuracy: 0.9957 - val_loss: 0.0043 - val_accuracy: 0.9957\n",
            "Epoch 45/200\n",
            "7/7 [==============================] - 0s 12ms/step - loss: 0.0043 - accuracy: 0.9957 - val_loss: 0.0043 - val_accuracy: 0.9957\n",
            "Epoch 46/200\n",
            "7/7 [==============================] - 0s 12ms/step - loss: 0.0043 - accuracy: 0.9957 - val_loss: 0.0043 - val_accuracy: 0.9957\n",
            "Epoch 47/200\n",
            "7/7 [==============================] - 0s 13ms/step - loss: 0.0043 - accuracy: 0.9957 - val_loss: 0.0043 - val_accuracy: 0.9957\n",
            "Epoch 48/200\n",
            "7/7 [==============================] - 0s 17ms/step - loss: 0.0043 - accuracy: 0.9957 - val_loss: 0.0043 - val_accuracy: 0.9957\n",
            "Epoch 49/200\n",
            "7/7 [==============================] - 0s 15ms/step - loss: 0.0043 - accuracy: 0.9957 - val_loss: 0.0043 - val_accuracy: 0.9957\n",
            "Epoch 50/200\n",
            "7/7 [==============================] - 0s 15ms/step - loss: 0.0043 - accuracy: 0.9957 - val_loss: 0.0043 - val_accuracy: 0.9957\n",
            "Epoch 51/200\n",
            "7/7 [==============================] - 0s 13ms/step - loss: 0.0043 - accuracy: 0.9957 - val_loss: 0.0043 - val_accuracy: 0.9957\n",
            "Epoch 52/200\n",
            "7/7 [==============================] - 0s 15ms/step - loss: 0.0043 - accuracy: 0.9957 - val_loss: 0.0043 - val_accuracy: 0.9957\n",
            "Epoch 53/200\n",
            "7/7 [==============================] - 0s 13ms/step - loss: 0.0043 - accuracy: 0.9957 - val_loss: 0.0043 - val_accuracy: 0.9957\n",
            "Epoch 54/200\n",
            "7/7 [==============================] - 0s 13ms/step - loss: 0.0043 - accuracy: 0.9957 - val_loss: 0.0043 - val_accuracy: 0.9957\n",
            "Epoch 55/200\n",
            "7/7 [==============================] - 0s 16ms/step - loss: 0.0043 - accuracy: 0.9957 - val_loss: 0.0043 - val_accuracy: 0.9957\n",
            "Epoch 56/200\n",
            "7/7 [==============================] - 0s 15ms/step - loss: 0.0043 - accuracy: 0.9957 - val_loss: 0.0043 - val_accuracy: 0.9957\n",
            "Epoch 57/200\n",
            "7/7 [==============================] - 0s 13ms/step - loss: 0.0043 - accuracy: 0.9957 - val_loss: 0.0043 - val_accuracy: 0.9957\n",
            "Epoch 58/200\n",
            "7/7 [==============================] - 0s 16ms/step - loss: 0.0043 - accuracy: 0.9957 - val_loss: 0.0043 - val_accuracy: 0.9957\n",
            "Epoch 59/200\n",
            "7/7 [==============================] - 0s 15ms/step - loss: 0.0043 - accuracy: 0.9957 - val_loss: 0.0043 - val_accuracy: 0.9957\n",
            "Epoch 60/200\n",
            "7/7 [==============================] - 0s 13ms/step - loss: 0.0043 - accuracy: 0.9957 - val_loss: 0.0043 - val_accuracy: 0.9957\n",
            "Epoch 61/200\n",
            "7/7 [==============================] - 0s 12ms/step - loss: 0.0043 - accuracy: 0.9957 - val_loss: 0.0043 - val_accuracy: 0.9957\n",
            "Epoch 62/200\n",
            "7/7 [==============================] - 0s 17ms/step - loss: 0.0043 - accuracy: 0.9957 - val_loss: 0.0043 - val_accuracy: 0.9957\n",
            "Epoch 63/200\n",
            "7/7 [==============================] - 0s 15ms/step - loss: 0.0043 - accuracy: 0.9957 - val_loss: 0.0043 - val_accuracy: 0.9957\n",
            "Epoch 64/200\n",
            "7/7 [==============================] - 0s 14ms/step - loss: 0.0043 - accuracy: 0.9957 - val_loss: 0.0043 - val_accuracy: 0.9957\n",
            "Epoch 65/200\n",
            "7/7 [==============================] - 0s 13ms/step - loss: 0.0043 - accuracy: 0.9957 - val_loss: 0.0043 - val_accuracy: 0.9957\n",
            "Epoch 66/200\n",
            "7/7 [==============================] - 0s 14ms/step - loss: 0.0043 - accuracy: 0.9957 - val_loss: 0.0043 - val_accuracy: 0.9957\n",
            "Epoch 67/200\n",
            "7/7 [==============================] - 0s 14ms/step - loss: 0.0043 - accuracy: 0.9957 - val_loss: 0.0043 - val_accuracy: 0.9957\n",
            "Epoch 68/200\n",
            "7/7 [==============================] - 0s 14ms/step - loss: 0.0043 - accuracy: 0.9957 - val_loss: 0.0043 - val_accuracy: 0.9957\n",
            "Epoch 69/200\n",
            "7/7 [==============================] - 0s 15ms/step - loss: 0.0043 - accuracy: 0.9957 - val_loss: 0.0043 - val_accuracy: 0.9957\n",
            "Epoch 70/200\n",
            "7/7 [==============================] - 0s 13ms/step - loss: 0.0043 - accuracy: 0.9957 - val_loss: 0.0043 - val_accuracy: 0.9957\n",
            "Epoch 71/200\n",
            "7/7 [==============================] - 0s 13ms/step - loss: 0.0043 - accuracy: 0.9957 - val_loss: 0.0043 - val_accuracy: 0.9957\n",
            "Epoch 72/200\n",
            "7/7 [==============================] - 0s 15ms/step - loss: 0.0043 - accuracy: 0.9957 - val_loss: 0.0043 - val_accuracy: 0.9957\n",
            "Epoch 73/200\n",
            "7/7 [==============================] - 0s 14ms/step - loss: 0.0043 - accuracy: 0.9957 - val_loss: 0.0043 - val_accuracy: 0.9957\n",
            "Epoch 74/200\n",
            "7/7 [==============================] - 0s 16ms/step - loss: 0.0043 - accuracy: 0.9957 - val_loss: 0.0043 - val_accuracy: 0.9957\n",
            "Epoch 75/200\n",
            "7/7 [==============================] - 0s 14ms/step - loss: 0.0043 - accuracy: 0.9957 - val_loss: 0.0043 - val_accuracy: 0.9957\n",
            "Epoch 76/200\n",
            "7/7 [==============================] - 0s 13ms/step - loss: 0.0043 - accuracy: 0.9957 - val_loss: 0.0043 - val_accuracy: 0.9957\n",
            "Epoch 77/200\n",
            "7/7 [==============================] - 0s 13ms/step - loss: 0.0043 - accuracy: 0.9957 - val_loss: 0.0043 - val_accuracy: 0.9957\n",
            "Epoch 78/200\n",
            "7/7 [==============================] - 0s 15ms/step - loss: 0.0043 - accuracy: 0.9957 - val_loss: 0.0043 - val_accuracy: 0.9957\n",
            "Epoch 79/200\n",
            "7/7 [==============================] - 0s 12ms/step - loss: 0.0043 - accuracy: 0.9957 - val_loss: 0.0043 - val_accuracy: 0.9957\n",
            "Epoch 80/200\n",
            "7/7 [==============================] - 0s 10ms/step - loss: 0.0043 - accuracy: 0.9957 - val_loss: 0.0043 - val_accuracy: 0.9957\n",
            "Epoch 81/200\n",
            "7/7 [==============================] - 0s 9ms/step - loss: 0.0043 - accuracy: 0.9957 - val_loss: 0.0043 - val_accuracy: 0.9957\n",
            "Epoch 82/200\n",
            "7/7 [==============================] - 0s 9ms/step - loss: 0.0043 - accuracy: 0.9957 - val_loss: 0.0043 - val_accuracy: 0.9957\n",
            "Epoch 83/200\n",
            "7/7 [==============================] - 0s 12ms/step - loss: 0.0043 - accuracy: 0.9957 - val_loss: 0.0043 - val_accuracy: 0.9957\n",
            "Epoch 84/200\n",
            "7/7 [==============================] - 0s 8ms/step - loss: 0.0043 - accuracy: 0.9957 - val_loss: 0.0043 - val_accuracy: 0.9957\n",
            "Epoch 85/200\n",
            "7/7 [==============================] - 0s 10ms/step - loss: 0.0043 - accuracy: 0.9957 - val_loss: 0.0043 - val_accuracy: 0.9957\n",
            "Epoch 86/200\n",
            "7/7 [==============================] - 0s 10ms/step - loss: 0.0043 - accuracy: 0.9957 - val_loss: 0.0043 - val_accuracy: 0.9957\n",
            "Epoch 87/200\n",
            "7/7 [==============================] - 0s 10ms/step - loss: 0.0043 - accuracy: 0.9957 - val_loss: 0.0043 - val_accuracy: 0.9957\n",
            "Epoch 88/200\n",
            "7/7 [==============================] - 0s 7ms/step - loss: 0.0043 - accuracy: 0.9957 - val_loss: 0.0043 - val_accuracy: 0.9957\n",
            "Epoch 89/200\n",
            "7/7 [==============================] - 0s 8ms/step - loss: 0.0043 - accuracy: 0.9957 - val_loss: 0.0043 - val_accuracy: 0.9957\n",
            "Epoch 90/200\n",
            "7/7 [==============================] - 0s 11ms/step - loss: 0.0043 - accuracy: 0.9957 - val_loss: 0.0043 - val_accuracy: 0.9957\n",
            "Epoch 91/200\n",
            "7/7 [==============================] - 0s 11ms/step - loss: 0.0043 - accuracy: 0.9957 - val_loss: 0.0043 - val_accuracy: 0.9957\n",
            "Epoch 92/200\n",
            "7/7 [==============================] - 0s 10ms/step - loss: 0.0043 - accuracy: 0.9957 - val_loss: 0.0043 - val_accuracy: 0.9957\n",
            "Epoch 93/200\n",
            "7/7 [==============================] - 0s 10ms/step - loss: 0.0043 - accuracy: 0.9957 - val_loss: 0.0043 - val_accuracy: 0.9957\n",
            "Epoch 94/200\n",
            "7/7 [==============================] - 0s 9ms/step - loss: 0.0043 - accuracy: 0.9957 - val_loss: 0.0043 - val_accuracy: 0.9957\n",
            "Epoch 95/200\n",
            "7/7 [==============================] - 0s 14ms/step - loss: 0.0043 - accuracy: 0.9957 - val_loss: 0.0043 - val_accuracy: 0.9957\n",
            "Epoch 96/200\n",
            "7/7 [==============================] - 0s 10ms/step - loss: 0.0043 - accuracy: 0.9957 - val_loss: 0.0043 - val_accuracy: 0.9957\n",
            "Epoch 97/200\n",
            "7/7 [==============================] - 0s 10ms/step - loss: 0.0043 - accuracy: 0.9957 - val_loss: 0.0043 - val_accuracy: 0.9957\n",
            "Epoch 98/200\n",
            "7/7 [==============================] - 0s 10ms/step - loss: 0.0043 - accuracy: 0.9957 - val_loss: 0.0043 - val_accuracy: 0.9957\n",
            "Epoch 99/200\n",
            "7/7 [==============================] - 0s 12ms/step - loss: 0.0043 - accuracy: 0.9957 - val_loss: 0.0043 - val_accuracy: 0.9957\n",
            "Epoch 100/200\n",
            "7/7 [==============================] - 0s 12ms/step - loss: 0.0043 - accuracy: 0.9957 - val_loss: 0.0043 - val_accuracy: 0.9957\n",
            "Epoch 101/200\n",
            "7/7 [==============================] - 0s 8ms/step - loss: 0.0043 - accuracy: 0.9957 - val_loss: 0.0043 - val_accuracy: 0.9957\n",
            "Epoch 102/200\n",
            "7/7 [==============================] - 0s 8ms/step - loss: 0.0043 - accuracy: 0.9957 - val_loss: 0.0043 - val_accuracy: 0.9957\n",
            "Epoch 103/200\n",
            "7/7 [==============================] - 0s 8ms/step - loss: 0.0043 - accuracy: 0.9957 - val_loss: 0.0043 - val_accuracy: 0.9957\n",
            "Epoch 104/200\n",
            "7/7 [==============================] - 0s 10ms/step - loss: 0.0043 - accuracy: 0.9957 - val_loss: 0.0043 - val_accuracy: 0.9957\n",
            "Epoch 105/200\n",
            "7/7 [==============================] - 0s 9ms/step - loss: 0.0043 - accuracy: 0.9957 - val_loss: 0.0043 - val_accuracy: 0.9957\n",
            "Epoch 106/200\n",
            "7/7 [==============================] - 0s 10ms/step - loss: 0.0043 - accuracy: 0.9957 - val_loss: 0.0043 - val_accuracy: 0.9957\n",
            "Epoch 107/200\n",
            "7/7 [==============================] - 0s 13ms/step - loss: 0.0043 - accuracy: 0.9957 - val_loss: 0.0043 - val_accuracy: 0.9957\n",
            "Epoch 108/200\n",
            "7/7 [==============================] - 0s 12ms/step - loss: 0.0043 - accuracy: 0.9957 - val_loss: 0.0043 - val_accuracy: 0.9957\n",
            "Epoch 109/200\n",
            "7/7 [==============================] - 0s 10ms/step - loss: 0.0043 - accuracy: 0.9957 - val_loss: 0.0043 - val_accuracy: 0.9957\n",
            "Epoch 110/200\n",
            "7/7 [==============================] - 0s 9ms/step - loss: 0.0043 - accuracy: 0.9957 - val_loss: 0.0043 - val_accuracy: 0.9957\n",
            "Epoch 111/200\n",
            "7/7 [==============================] - 0s 10ms/step - loss: 0.0043 - accuracy: 0.9957 - val_loss: 0.0043 - val_accuracy: 0.9957\n",
            "Epoch 112/200\n",
            "7/7 [==============================] - 0s 8ms/step - loss: 0.0043 - accuracy: 0.9957 - val_loss: 0.0043 - val_accuracy: 0.9957\n",
            "Epoch 113/200\n",
            "7/7 [==============================] - 0s 7ms/step - loss: 0.0043 - accuracy: 0.9957 - val_loss: 0.0043 - val_accuracy: 0.9957\n",
            "Epoch 114/200\n",
            "7/7 [==============================] - 0s 9ms/step - loss: 0.0043 - accuracy: 0.9957 - val_loss: 0.0043 - val_accuracy: 0.9957\n",
            "Epoch 115/200\n",
            "7/7 [==============================] - 0s 11ms/step - loss: 0.0043 - accuracy: 0.9957 - val_loss: 0.0043 - val_accuracy: 0.9957\n",
            "Epoch 116/200\n",
            "7/7 [==============================] - 0s 13ms/step - loss: 0.0043 - accuracy: 0.9957 - val_loss: 0.0043 - val_accuracy: 0.9957\n",
            "Epoch 117/200\n",
            "7/7 [==============================] - 0s 8ms/step - loss: 0.0043 - accuracy: 0.9957 - val_loss: 0.0043 - val_accuracy: 0.9957\n",
            "Epoch 118/200\n",
            "7/7 [==============================] - 0s 8ms/step - loss: 0.0043 - accuracy: 0.9957 - val_loss: 0.0043 - val_accuracy: 0.9957\n",
            "Epoch 119/200\n",
            "7/7 [==============================] - 0s 9ms/step - loss: 0.0043 - accuracy: 0.9957 - val_loss: 0.0043 - val_accuracy: 0.9957\n",
            "Epoch 120/200\n",
            "7/7 [==============================] - 0s 11ms/step - loss: 0.0043 - accuracy: 0.9957 - val_loss: 0.0043 - val_accuracy: 0.9957\n",
            "Epoch 121/200\n",
            "7/7 [==============================] - 0s 10ms/step - loss: 0.0043 - accuracy: 0.9957 - val_loss: 0.0043 - val_accuracy: 0.9957\n",
            "Epoch 122/200\n",
            "7/7 [==============================] - 0s 8ms/step - loss: 0.0043 - accuracy: 0.9957 - val_loss: 0.0043 - val_accuracy: 0.9957\n",
            "Epoch 123/200\n",
            "7/7 [==============================] - 0s 8ms/step - loss: 0.0043 - accuracy: 0.9957 - val_loss: 0.0043 - val_accuracy: 0.9957\n",
            "Epoch 124/200\n",
            "7/7 [==============================] - 0s 10ms/step - loss: 0.0043 - accuracy: 0.9957 - val_loss: 0.0043 - val_accuracy: 0.9957\n",
            "Epoch 125/200\n",
            "7/7 [==============================] - 0s 14ms/step - loss: 0.0043 - accuracy: 0.9957 - val_loss: 0.0043 - val_accuracy: 0.9957\n",
            "Epoch 126/200\n",
            "7/7 [==============================] - 0s 9ms/step - loss: 0.0043 - accuracy: 0.9957 - val_loss: 0.0043 - val_accuracy: 0.9957\n",
            "Epoch 127/200\n",
            "7/7 [==============================] - 0s 10ms/step - loss: 0.0043 - accuracy: 0.9957 - val_loss: 0.0043 - val_accuracy: 0.9957\n",
            "Epoch 128/200\n",
            "7/7 [==============================] - 0s 11ms/step - loss: 0.0043 - accuracy: 0.9957 - val_loss: 0.0043 - val_accuracy: 0.9957\n",
            "Epoch 129/200\n",
            "7/7 [==============================] - 0s 9ms/step - loss: 0.0043 - accuracy: 0.9957 - val_loss: 0.0043 - val_accuracy: 0.9957\n",
            "Epoch 130/200\n",
            "7/7 [==============================] - 0s 9ms/step - loss: 0.0043 - accuracy: 0.9957 - val_loss: 0.0043 - val_accuracy: 0.9957\n",
            "Epoch 131/200\n",
            "7/7 [==============================] - 0s 8ms/step - loss: 0.0043 - accuracy: 0.9957 - val_loss: 0.0043 - val_accuracy: 0.9957\n",
            "Epoch 132/200\n",
            "7/7 [==============================] - 0s 11ms/step - loss: 0.0043 - accuracy: 0.9957 - val_loss: 0.0043 - val_accuracy: 0.9957\n",
            "Epoch 133/200\n",
            "7/7 [==============================] - 0s 9ms/step - loss: 0.0043 - accuracy: 0.9957 - val_loss: 0.0043 - val_accuracy: 0.9957\n",
            "Epoch 134/200\n",
            "7/7 [==============================] - 0s 9ms/step - loss: 0.0043 - accuracy: 0.9957 - val_loss: 0.0043 - val_accuracy: 0.9957\n",
            "Epoch 135/200\n",
            "7/7 [==============================] - 0s 8ms/step - loss: 0.0043 - accuracy: 0.9957 - val_loss: 0.0043 - val_accuracy: 0.9957\n",
            "Epoch 136/200\n",
            "7/7 [==============================] - 0s 8ms/step - loss: 0.0043 - accuracy: 0.9957 - val_loss: 0.0043 - val_accuracy: 0.9957\n",
            "Epoch 137/200\n",
            "7/7 [==============================] - 0s 9ms/step - loss: 0.0043 - accuracy: 0.9957 - val_loss: 0.0043 - val_accuracy: 0.9957\n",
            "Epoch 138/200\n",
            "7/7 [==============================] - 0s 11ms/step - loss: 0.0043 - accuracy: 0.9957 - val_loss: 0.0043 - val_accuracy: 0.9957\n",
            "Epoch 139/200\n",
            "7/7 [==============================] - 0s 10ms/step - loss: 0.0043 - accuracy: 0.9957 - val_loss: 0.0043 - val_accuracy: 0.9957\n",
            "Epoch 140/200\n",
            "7/7 [==============================] - 0s 12ms/step - loss: 0.0043 - accuracy: 0.9957 - val_loss: 0.0043 - val_accuracy: 0.9957\n",
            "Epoch 141/200\n",
            "7/7 [==============================] - 0s 12ms/step - loss: 0.0043 - accuracy: 0.9957 - val_loss: 0.0043 - val_accuracy: 0.9957\n",
            "Epoch 142/200\n",
            "7/7 [==============================] - 0s 9ms/step - loss: 0.0043 - accuracy: 0.9957 - val_loss: 0.0043 - val_accuracy: 0.9957\n",
            "Epoch 143/200\n",
            "7/7 [==============================] - 0s 11ms/step - loss: 0.0043 - accuracy: 0.9957 - val_loss: 0.0043 - val_accuracy: 0.9957\n",
            "Epoch 144/200\n",
            "7/7 [==============================] - 0s 10ms/step - loss: 0.0043 - accuracy: 0.9957 - val_loss: 0.0043 - val_accuracy: 0.9957\n",
            "Epoch 145/200\n",
            "7/7 [==============================] - 0s 8ms/step - loss: 0.0043 - accuracy: 0.9957 - val_loss: 0.0043 - val_accuracy: 0.9957\n",
            "Epoch 146/200\n",
            "7/7 [==============================] - 0s 10ms/step - loss: 0.0043 - accuracy: 0.9957 - val_loss: 0.0043 - val_accuracy: 0.9957\n",
            "Epoch 147/200\n",
            "7/7 [==============================] - 0s 8ms/step - loss: 0.0043 - accuracy: 0.9957 - val_loss: 0.0043 - val_accuracy: 0.9957\n",
            "Epoch 148/200\n",
            "7/7 [==============================] - 0s 10ms/step - loss: 0.0043 - accuracy: 0.9957 - val_loss: 0.0043 - val_accuracy: 0.9957\n",
            "Epoch 149/200\n",
            "7/7 [==============================] - 0s 10ms/step - loss: 0.0043 - accuracy: 0.9957 - val_loss: 0.0043 - val_accuracy: 0.9957\n",
            "Epoch 150/200\n",
            "7/7 [==============================] - 0s 11ms/step - loss: 0.0043 - accuracy: 0.9957 - val_loss: 0.0043 - val_accuracy: 0.9957\n",
            "Epoch 151/200\n",
            "7/7 [==============================] - 0s 8ms/step - loss: 0.0043 - accuracy: 0.9957 - val_loss: 0.0043 - val_accuracy: 0.9957\n",
            "Epoch 152/200\n",
            "7/7 [==============================] - 0s 11ms/step - loss: 0.0043 - accuracy: 0.9957 - val_loss: 0.0043 - val_accuracy: 0.9957\n",
            "Epoch 153/200\n",
            "7/7 [==============================] - 0s 10ms/step - loss: 0.0043 - accuracy: 0.9957 - val_loss: 0.0043 - val_accuracy: 0.9957\n",
            "Epoch 154/200\n",
            "7/7 [==============================] - 0s 9ms/step - loss: 0.0043 - accuracy: 0.9957 - val_loss: 0.0043 - val_accuracy: 0.9957\n",
            "Epoch 155/200\n",
            "7/7 [==============================] - 0s 9ms/step - loss: 0.0043 - accuracy: 0.9957 - val_loss: 0.0043 - val_accuracy: 0.9957\n",
            "Epoch 156/200\n",
            "7/7 [==============================] - 0s 8ms/step - loss: 0.0043 - accuracy: 0.9957 - val_loss: 0.0043 - val_accuracy: 0.9957\n",
            "Epoch 157/200\n",
            "7/7 [==============================] - 0s 12ms/step - loss: 0.0043 - accuracy: 0.9957 - val_loss: 0.0043 - val_accuracy: 0.9957\n",
            "Epoch 158/200\n",
            "7/7 [==============================] - 0s 10ms/step - loss: 0.0043 - accuracy: 0.9957 - val_loss: 0.0043 - val_accuracy: 0.9957\n",
            "Epoch 159/200\n",
            "7/7 [==============================] - 0s 10ms/step - loss: 0.0043 - accuracy: 0.9957 - val_loss: 0.0043 - val_accuracy: 0.9957\n",
            "Epoch 160/200\n",
            "7/7 [==============================] - 0s 11ms/step - loss: 0.0043 - accuracy: 0.9957 - val_loss: 0.0043 - val_accuracy: 0.9957\n",
            "Epoch 161/200\n",
            "7/7 [==============================] - 0s 11ms/step - loss: 0.0043 - accuracy: 0.9957 - val_loss: 0.0043 - val_accuracy: 0.9957\n",
            "Epoch 162/200\n",
            "7/7 [==============================] - 0s 9ms/step - loss: 0.0043 - accuracy: 0.9957 - val_loss: 0.0043 - val_accuracy: 0.9957\n",
            "Epoch 163/200\n",
            "7/7 [==============================] - 0s 10ms/step - loss: 0.0043 - accuracy: 0.9957 - val_loss: 0.0043 - val_accuracy: 0.9957\n",
            "Epoch 164/200\n",
            "7/7 [==============================] - 0s 10ms/step - loss: 0.0043 - accuracy: 0.9957 - val_loss: 0.0043 - val_accuracy: 0.9957\n",
            "Epoch 165/200\n",
            "7/7 [==============================] - 0s 11ms/step - loss: 0.0043 - accuracy: 0.9957 - val_loss: 0.0043 - val_accuracy: 0.9957\n",
            "Epoch 166/200\n",
            "7/7 [==============================] - 0s 8ms/step - loss: 0.0043 - accuracy: 0.9957 - val_loss: 0.0043 - val_accuracy: 0.9957\n",
            "Epoch 167/200\n",
            "7/7 [==============================] - 0s 8ms/step - loss: 0.0043 - accuracy: 0.9957 - val_loss: 0.0043 - val_accuracy: 0.9957\n",
            "Epoch 168/200\n",
            "7/7 [==============================] - 0s 8ms/step - loss: 0.0043 - accuracy: 0.9957 - val_loss: 0.0043 - val_accuracy: 0.9957\n",
            "Epoch 169/200\n",
            "7/7 [==============================] - 0s 10ms/step - loss: 0.0043 - accuracy: 0.9957 - val_loss: 0.0043 - val_accuracy: 0.9957\n",
            "Epoch 170/200\n",
            "7/7 [==============================] - 0s 11ms/step - loss: 0.0043 - accuracy: 0.9957 - val_loss: 0.0043 - val_accuracy: 0.9957\n",
            "Epoch 171/200\n",
            "7/7 [==============================] - 0s 11ms/step - loss: 0.0043 - accuracy: 0.9957 - val_loss: 0.0043 - val_accuracy: 0.9957\n",
            "Epoch 172/200\n",
            "7/7 [==============================] - 0s 12ms/step - loss: 0.0043 - accuracy: 0.9957 - val_loss: 0.0043 - val_accuracy: 0.9957\n",
            "Epoch 173/200\n",
            "7/7 [==============================] - 0s 10ms/step - loss: 0.0043 - accuracy: 0.9957 - val_loss: 0.0043 - val_accuracy: 0.9957\n",
            "Epoch 174/200\n",
            "7/7 [==============================] - 0s 10ms/step - loss: 0.0043 - accuracy: 0.9957 - val_loss: 0.0043 - val_accuracy: 0.9957\n",
            "Epoch 175/200\n",
            "7/7 [==============================] - 0s 11ms/step - loss: 0.0043 - accuracy: 0.9957 - val_loss: 0.0043 - val_accuracy: 0.9957\n",
            "Epoch 176/200\n",
            "7/7 [==============================] - 0s 8ms/step - loss: 0.0043 - accuracy: 0.9957 - val_loss: 0.0043 - val_accuracy: 0.9957\n",
            "Epoch 177/200\n",
            "7/7 [==============================] - 0s 8ms/step - loss: 0.0043 - accuracy: 0.9957 - val_loss: 0.0043 - val_accuracy: 0.9957\n",
            "Epoch 178/200\n",
            "7/7 [==============================] - 0s 11ms/step - loss: 0.0043 - accuracy: 0.9957 - val_loss: 0.0043 - val_accuracy: 0.9957\n",
            "Epoch 179/200\n",
            "7/7 [==============================] - 0s 10ms/step - loss: 0.0043 - accuracy: 0.9957 - val_loss: 0.0043 - val_accuracy: 0.9957\n",
            "Epoch 180/200\n",
            "7/7 [==============================] - 0s 10ms/step - loss: 0.0043 - accuracy: 0.9957 - val_loss: 0.0043 - val_accuracy: 0.9957\n",
            "Epoch 181/200\n",
            "7/7 [==============================] - 0s 9ms/step - loss: 0.0043 - accuracy: 0.9957 - val_loss: 0.0043 - val_accuracy: 0.9957\n",
            "Epoch 182/200\n",
            "7/7 [==============================] - 0s 9ms/step - loss: 0.0043 - accuracy: 0.9957 - val_loss: 0.0043 - val_accuracy: 0.9957\n",
            "Epoch 183/200\n",
            "7/7 [==============================] - 0s 11ms/step - loss: 0.0043 - accuracy: 0.9957 - val_loss: 0.0043 - val_accuracy: 0.9957\n",
            "Epoch 184/200\n",
            "7/7 [==============================] - 0s 10ms/step - loss: 0.0043 - accuracy: 0.9957 - val_loss: 0.0043 - val_accuracy: 0.9957\n",
            "Epoch 185/200\n",
            "7/7 [==============================] - 0s 8ms/step - loss: 0.0043 - accuracy: 0.9957 - val_loss: 0.0043 - val_accuracy: 0.9957\n",
            "Epoch 186/200\n",
            "7/7 [==============================] - 0s 9ms/step - loss: 0.0043 - accuracy: 0.9957 - val_loss: 0.0043 - val_accuracy: 0.9957\n",
            "Epoch 187/200\n",
            "7/7 [==============================] - 0s 8ms/step - loss: 0.0043 - accuracy: 0.9957 - val_loss: 0.0043 - val_accuracy: 0.9957\n",
            "Epoch 188/200\n",
            "7/7 [==============================] - 0s 8ms/step - loss: 0.0043 - accuracy: 0.9957 - val_loss: 0.0043 - val_accuracy: 0.9957\n",
            "Epoch 189/200\n",
            "7/7 [==============================] - 0s 8ms/step - loss: 0.0043 - accuracy: 0.9957 - val_loss: 0.0043 - val_accuracy: 0.9957\n",
            "Epoch 190/200\n",
            "7/7 [==============================] - 0s 10ms/step - loss: 0.0043 - accuracy: 0.9957 - val_loss: 0.0043 - val_accuracy: 0.9957\n",
            "Epoch 191/200\n",
            "7/7 [==============================] - 0s 9ms/step - loss: 0.0043 - accuracy: 0.9957 - val_loss: 0.0043 - val_accuracy: 0.9957\n",
            "Epoch 192/200\n",
            "7/7 [==============================] - 0s 10ms/step - loss: 0.0043 - accuracy: 0.9957 - val_loss: 0.0043 - val_accuracy: 0.9957\n",
            "Epoch 193/200\n",
            "7/7 [==============================] - 0s 10ms/step - loss: 0.0043 - accuracy: 0.9957 - val_loss: 0.0043 - val_accuracy: 0.9957\n",
            "Epoch 194/200\n",
            "7/7 [==============================] - 0s 8ms/step - loss: 0.0043 - accuracy: 0.9957 - val_loss: 0.0043 - val_accuracy: 0.9957\n",
            "Epoch 195/200\n",
            "7/7 [==============================] - 0s 11ms/step - loss: 0.0043 - accuracy: 0.9957 - val_loss: 0.0043 - val_accuracy: 0.9957\n",
            "Epoch 196/200\n",
            "7/7 [==============================] - 0s 10ms/step - loss: 0.0043 - accuracy: 0.9957 - val_loss: 0.0043 - val_accuracy: 0.9957\n",
            "Epoch 197/200\n",
            "7/7 [==============================] - 0s 8ms/step - loss: 0.0043 - accuracy: 0.9957 - val_loss: 0.0043 - val_accuracy: 0.9957\n",
            "Epoch 198/200\n",
            "7/7 [==============================] - 0s 11ms/step - loss: 0.0043 - accuracy: 0.9957 - val_loss: 0.0043 - val_accuracy: 0.9957\n",
            "Epoch 199/200\n",
            "7/7 [==============================] - 0s 10ms/step - loss: 0.0043 - accuracy: 0.9957 - val_loss: 0.0043 - val_accuracy: 0.9957\n",
            "Epoch 200/200\n",
            "7/7 [==============================] - 0s 10ms/step - loss: 0.0043 - accuracy: 0.9957 - val_loss: 0.0043 - val_accuracy: 0.9957\n"
          ]
        }
      ]
    },
    {
      "cell_type": "code",
      "source": [
        "plt.plot(history.history['accuracy'])\n",
        "plt.plot(history.history['val_accuracy'], 'r--')\n",
        "plt.title('Precision del modelo')\n",
        "plt.ylabel('Precision')\n",
        "plt.legend(['entrenamiento','Prueba'], loc='upper left')\n",
        "plt.show\n",
        "plt.savefig('figura01.png', dpi= 300)"
      ],
      "metadata": {
        "colab": {
          "base_uri": "https://localhost:8080/",
          "height": 452
        },
        "id": "OKJck2lrrE8O",
        "outputId": "427effbe-09cc-4bd9-988c-952cfe24cbe5"
      },
      "execution_count": 17,
      "outputs": [
        {
          "output_type": "display_data",
          "data": {
            "text/plain": [
              "<Figure size 640x480 with 1 Axes>"
            ],
            "image/png": "[encoded data removed]"
          },
          "metadata": {}
        }
      ]
    },
    {
      "cell_type": "code",
      "source": [
        "plt.plot(history.history['loss'])\n",
        "plt.plot(history.history['val_loss'], 'r--')\n",
        "plt.title('Precision del modelo')\n",
        "plt.ylabel('Precision')\n",
        "plt.legend(['entrenamiento','Prueba'], loc='upper left')\n",
        "plt.show\n",
        "plt.savefig('figura01.png', dpi= 300)"
      ],
      "metadata": {
        "colab": {
          "base_uri": "https://localhost:8080/",
          "height": 452
        },
        "id": "D6kyorSfrKkF",
        "outputId": "1801cab6-0085-4611-8b0b-fe2336112a59"
      },
      "execution_count": 18,
      "outputs": [
        {
          "output_type": "display_data",
          "data": {
            "text/plain": [
              "<Figure size 640x480 with 1 Axes>"
            ],
            "image/png": "[encoded data removed]"
          },
          "metadata": {}
        }
      ]
    },
    {
      "cell_type": "code",
      "source": [
        "model.summary()"
      ],
      "metadata": {
        "colab": {
          "base_uri": "https://localhost:8080/"
        },
        "id": "Hu80oenmrVwh",
        "outputId": "8128bedd-cbcd-4d0e-94de-597c29ab7be2"
      },
      "execution_count": 19,
      "outputs": [
        {
          "output_type": "stream",
          "name": "stdout",
          "text": [
            "Model: \"sequential\"\n",
            "_________________________________________________________________\n",
            " Layer (type)                Output Shape              Param #   \n",
            "=================================================================\n",
            " dense (Dense)               (None, 36)                180       \n",
            "                                                                 \n",
            " dense_1 (Dense)             (None, 32)                1184      \n",
            "                                                                 \n",
            " dense_2 (Dense)             (None, 16)                528       \n",
            "                                                                 \n",
            " dense_3 (Dense)             (None, 1)                 17        \n",
            "                                                                 \n",
            "=================================================================\n",
            "Total params: 1909 (7.46 KB)\n",
            "Trainable params: 1909 (7.46 KB)\n",
            "Non-trainable params: 0 (0.00 Byte)\n",
            "_________________________________________________________________\n"
          ]
        }
      ]
    }
  ]
}